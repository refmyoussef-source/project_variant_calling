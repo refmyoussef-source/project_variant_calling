{
 "cells": [
  {
   "cell_type": "markdown",
   "id": "56d4270a-9354-43d8-98d7-91eb2641eca9",
   "metadata": {},
   "source": [
    "# 00. Project Setup: Dependencies and Data Download\n",
    "\n",
    "This notebook prepares the entire project environment. It performs three main tasks:\n",
    "1.  **Install Dependencies:** Installs all required bioinformatics tools (GATK, BWA, etc.) into our dedicated conda environment.\n",
    "2.  **Download Reference Genome:** Fetches the official reference genome for *S. aureus ATCC 29213*.\n",
    "3.  **Download SRA Data:** Downloads the 7 SRA sequencing runs for our experiment.\n",
    "\n",
    "## 1. Install Dependencies\n",
    "\n",
    "We will install all tools using `mamba`. We explicitly manage the Java version (`openjdk=17`) because `GATK4` requires Java 17, while newer `SnpEff` versions require newer Java. Forcing Java 17 ensures all tools are compatible."
   ]
  },
  {
   "cell_type": "code",
   "execution_count": null,
   "id": "40e7803c-6119-415d-8727-1c5712b81171",
   "metadata": {},
   "outputs": [],
   "source": [
    "# 1. Install primary tools (GATK, BWA, etc.)\n",
    "# This will install openjdk=17 as a dependency for GATK, which is our anchor.\n",
    "!mamba install -c conda-forge -c bioconda bwa samtools gatk4 fastqc multiqc -y\n",
    "\n",
    "# 2. Install SnpEff (The \"Surgical\" Fix)\n",
    "# We aggressively remove any existing version first.\n",
    "!mamba remove snpeff -y --force\n",
    "# Now, we install a *specific version* (5.1) known to be compatible with openjdk=17.\n",
    "!mamba install -c conda-forge -c bioconda \"snpeff=5.1\" openjdk=17 -y\n",
    "\n",
    "# 3. Verify all installations\n",
    "print(\"--- BWA ---\")\n",
    "!bwa | head -n 5\n",
    "print(\"\\n--- Samtools Version ---\")\n",
    "!samtools --version\n",
    "print(\"\\n--- GATK Version ---\")\n",
    "!gatk --version\n",
    "print(\"\\n--- FastQC Version ---\")\n",
    "!fastqc --version\n",
    "print(\"\\n--- MultiQC Version ---\")\n",
    "!multiqc --version\n",
    "print(\"\\n--- SnpEff Version (Fixed) ---\")\n",
    "!snpEff -version"
   ]
  },
  {
   "cell_type": "markdown",
   "id": "f4dba8ea-47c2-4df6-903c-5499cea98e41",
   "metadata": {},
   "source": [
    "## 2. Download Reference Genome (via Accession Number)\n",
    "\n",
    "To perform variant calling, we must compare our sample reads against a reference genome. We will use the modern NCBI `datasets` tool to download the \"gold-standard\" RefSeq genome for our strain directly using its accession number.\n",
    "\n",
    "**Strain:** *Staphylococcus aureus* ATCC 29213\n",
    "**RefSeq Accession:** `GCF_022832775.1`\n",
    "\n",
    "The process will be:\n",
    "1.  Install the `ncbi-datasets-cli` tool.\n",
    "2.  Use the tool to download the genome (FASTA file) into our `../references/` directory.\n",
    "3.  Clean up and rename the file to `saureus_atcc_29213.fasta`."
   ]
  },
  {
   "cell_type": "code",
   "execution_count": null,
   "id": "9183503e-ebb9-4535-95f4-0802db9c5ea7",
   "metadata": {},
   "outputs": [],
   "source": [
    "# 1. Install the NCBI datasets command-line tool\n",
    "!mamba install -c conda-forge ncbi-datasets-cli -y\n",
    "\n",
    "# 2. Download the genome using the RefSeq Accession Number\n",
    "# We ask for the FASTA file ('--include genome') and save it as a zip file in our references folder.\n",
    "!datasets download genome accession GCF_022832775.1 --filename ../references/reference.zip --include genome\n",
    "\n",
    "# 3. Unzip the downloaded package\n",
    "# The '-d' flag specifies the directory to extract to.\n",
    "!unzip -o ../references/reference.zip -d ../references/\n",
    "\n",
    "# 4. Clean up and Rename\n",
    "# The zip file creates a messy folder structure ('ncbi_dataset/data/...').\n",
    "# We find the actual .fna file, move it, and rename it.\n",
    "!find ../references/ -name \"*.fna\" -exec mv {} ../references/saureus_atcc_29213.fasta \\;\n",
    "\n",
    "# 5. Remove the leftover zip and extracted folder\n",
    "!rm ../references/reference.zip\n",
    "!rm -rf ../references/ncbi_dataset\n",
    "!rm ../references/README.md\n",
    "\n",
    "# 6. Verify the final file\n",
    "print(\"\\n--- Verification: Reference Genome File ---\")\n",
    "!ls -lh ../references/"
   ]
  },
  {
   "cell_type": "markdown",
   "id": "99d6d785-eaaa-4569-a76f-4f46edd1a853",
   "metadata": {},
   "source": [
    "## 3. Download SRA Sequencing Data\n",
    "\n",
    "Now we will download the raw sequencing reads for our 7 samples from the NCBI Sequence Read Archive (SRA).\n",
    "\n",
    "We will use the `sra-tools` suite in a two-step professional workflow:\n",
    "1.  **`prefetch`:** This tool robustly downloads the compressed SRA-format files. It's designed to handle large downloads and network interruptions.\n",
    "2.  **`fastq-dump`:** This tool converts the downloaded `.sra` files into the standard FASTQ format that our QC and alignment tools (FastQC, BWA) can read.\n",
    "\n",
    "**Our 7 Samples:**\n",
    "* `SRR5100333` (Control Parent)\n",
    "* `SRR11187850` (DAP P5)\n",
    "* `SRR11187849` (DAP P20)\n",
    "* `SRR5100329` (DAP Final)\n",
    "* `SRR11187852` (VAN P5)\n",
    "* `SRR11187851` (VAN P20)\n",
    "* `SRR5100339` (VAN Final)"
   ]
  },
  {
   "cell_type": "code",
   "execution_count": null,
   "id": "a05a6315-e123-4715-b461-b49b5fa454a4",
   "metadata": {},
   "outputs": [],
   "source": [
    "# Create a list of our sample SRR accessions\n",
    "srr_ids = [\n",
    "    \"SRR5100333\", \"SRR11187850\", \"SRR11187849\",\n",
    "    \"SRR5100329\", \"SRR11187852\", \"SRR11187851\",\n",
    "    \"SRR5100339\"\n",
    "]\n",
    "\n",
    "# --- Step 1: Download .sra files using prefetch ---\n",
    "# This downloads files to the default cache (~/ncbi/public/sra/)\n",
    "print(\"--- Starting SRA prefetch (this may take a while)... ---\")\n",
    "for srr in srr_ids:\n",
    "    print(f\"Prefetching {srr}...\")\n",
    "    !prefetch {srr} -v\n",
    "print(\"--- Prefetch complete. ---\")\n",
    "\n",
    "\n",
    "# --- Step 2: Convert .sra to .fastq.gz using fastq-dump ---\n",
    "# This finds the prefetched files and converts them, saving the output\n",
    "# to our project's 'data' directory.\n",
    "print(\"\\n--- Starting fastq-dump (conversion)... ---\")\n",
    "for srr in srr_ids:\n",
    "    print(f\"Dumping {srr} to ../data/ ...\")\n",
    "    # --gzip: Compresses the output (saves space)\n",
    "    # --split-files: Creates _1.fastq.gz and _2.fastq.gz for paired-end\n",
    "    # --outdir: Specifies our data directory\n",
    "    !fastq-dump --gzip --split-files --outdir ../data/ {srr}\n",
    "print(\"--- Fastq-dump complete. ---\")\n",
    "\n",
    "\n",
    "# --- Step 3: Verify the final FASTQ files ---\n",
    "print(\"\\n--- Verification: Downloaded FASTQ files ---\")\n",
    "!ls -lh ../data/"
   ]
  },
  {
   "cell_type": "code",
   "execution_count": null,
   "id": "984ae09f-fd13-40db-b81e-9214d47619f9",
   "metadata": {},
   "outputs": [],
   "source": []
  }
 ],
 "metadata": {
  "kernelspec": {
   "display_name": "Python 3 (ipykernel)",
   "language": "python",
   "name": "python3"
  },
  "language_info": {
   "codemirror_mode": {
    "name": "ipython",
    "version": 3
   },
   "file_extension": ".py",
   "mimetype": "text/x-python",
   "name": "python",
   "nbconvert_exporter": "python",
   "pygments_lexer": "ipython3",
   "version": "3.14.0"
  }
 },
 "nbformat": 4,
 "nbformat_minor": 5
}
