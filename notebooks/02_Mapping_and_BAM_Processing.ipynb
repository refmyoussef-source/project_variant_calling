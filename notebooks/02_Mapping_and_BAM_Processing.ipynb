{
 "cells": [
  {
   "cell_type": "markdown",
   "id": "528d8665-01d6-4f28-9b0c-2ecef2a748ea",
   "metadata": {},
   "source": [
    "# 02. Mapping and BAM Processing\n",
    "\n",
    "This notebook is the core of the pipeline. We will map our 14 clean (trimmed) FASTQ reads against the reference genome.\n",
    "\n",
    "**Workflow:**\n",
    "1.  **Index Reference:** Create a `BWA` index for our reference genome (a one-time setup step).\n",
    "2.  **Run Mapping:** Loop through all 7 sample pairs and run `bwa-mem` to align reads and generate `SAM` files.\n",
    "3.  **Process BAMs:** Convert `SAM` to `BAM`, sort, and index the BAM files using `samtools`. This prepares them for GATK."
   ]
  },
  {
   "cell_type": "code",
   "execution_count": null,
   "id": "4cb65b0e-3717-443e-8a91-54afc682a9a8",
   "metadata": {},
   "outputs": [],
   "source": [
    "# Create a new directory for the index files to keep things clean\n",
    "!mkdir -p ../references/bwa_index\n",
    "\n",
    "# 1. Run bwa index on our reference FASTA\n",
    "# We use -p to tell BWA where to *put* the new index files.\n",
    "print(\"--- Running bwa index (this may take a minute)... ---\")\n",
    "!bwa index -p ../references/bwa_index/saureus_atcc_29213 ../references/saureus_atcc_29213.fasta\n",
    "\n",
    "# 2. Verification (as a minor step)\n",
    "# We check that the new index files (.amb, .ann, .bwt, .pac, .sa) were created\n",
    "# in the new directory.\n",
    "print(\"\\n--- Verification: BWA Index files ---\")\n",
    "!ls -lh ../references/bwa_index/"
   ]
  },
  {
   "cell_type": "markdown",
   "id": "1825a701-ba60-49b3-a08c-59b3a456c48c",
   "metadata": {},
   "source": [
    "## 2. Run Mapping (bwa mem) and SAM-to-BAM Conversion\n",
    "\n",
    "This is the main event of this notebook. We will now align our 14 clean (trimmed) FASTQ files against the indexed reference genome.\n",
    "\n",
    "**Workflow:**\n",
    "We will use a professional `bash` loop to process all 7 samples. For each sample, we will:\n",
    "1.  Run `bwa mem` using 8 threads to perform the alignment.\n",
    "2.  \"Pipe\" (`|`) the output (which is in `SAM` format) *directly* into `samtools`.\n",
    "3.  Use `samtools view` to convert the streaming `SAM` data into a compressed `BAM` file (`-bS`).\n",
    "4.  Save the final, compressed `.bam` file into a new `../results/bam/` directory.\n",
    "\n",
    "This on-the-fly `SAM-to-BAM` conversion is highly efficient, saving massive amounts of disk space and time."
   ]
  },
  {
   "cell_type": "code",
   "execution_count": null,
   "id": "ca39d939-9f7b-4157-8af7-41d08a15f596",
   "metadata": {},
   "outputs": [],
   "source": [
    "%%bash\n",
    "# Tell Jupyter to run this entire cell as a bash script\n",
    "\n",
    "# 1. Create the output directory for our new BAM files\n",
    "echo \"--- Creating output directory ../results/bam/ ---\"\n",
    "mkdir -p ../results/bam/\n",
    "\n",
    "# 2. Define the path to our BWA index (Corrected Path)\n",
    "# This is the prefix we created in Cell 2 of this notebook\n",
    "BWA_INDEX=\"../references/bwa_index/saureus_atcc_29213\"\n",
    "\n",
    "# 3. Loop through all *trimmed* Read 1 files\n",
    "for r1_path in ../data/trimmed/*_1.trimmed.fastq.gz; do\n",
    "    \n",
    "    # --- Construct filenames ---\n",
    "    r1_filename=$(basename \"$r1_path\")\n",
    "    sample_id=$(echo \"$r1_filename\" | cut -d'_' -f1)\n",
    "    \n",
    "    echo \"--- Starting Mapping for sample: $sample_id ---\"\n",
    "    \n",
    "    # Construct paths\n",
    "    r2_path=\"../data/trimmed/${sample_id}_2.trimmed.fastq.gz\"\n",
    "    output_bam=\"../results/bam/${sample_id}.bam\"\n",
    "    \n",
    "    # --- !! THE FIX: Define the Read Group (RG) String !! ---\n",
    "    # GATK *requires* this. We give each sample an ID (ID) and a Sample Name (SM).\n",
    "    READ_GROUP_STRING=\"@RG\\tID:${sample_id}\\tSM:${sample_id}\\tPL:ILLUMINA\"\n",
    "\n",
    "    # --- Run the BWA -> Samtools pipeline (NOW WITH -R) ---\n",
    "    # -R: Attaches the Read Group string to the BAM header\n",
    "    \n",
    "    bwa mem -t 8 -R \"$READ_GROUP_STRING\" $BWA_INDEX $r1_path $r2_path | samtools view -bS -@ 8 -o $output_bam -\n",
    "    \n",
    "    echo \"--- Finished Mapping for sample: $sample_id ---\"\n",
    "done\n",
    "\n",
    "echo \"--- All mapping is complete. ---\""
   ]
  },
  {
   "cell_type": "code",
   "execution_count": null,
   "id": "12a508d9-1517-482a-8b46-1cd67cd46d1e",
   "metadata": {},
   "outputs": [],
   "source": [
    "# Verify the new BAM files\n",
    "print(\"--- Verification: BAM files ---\")\n",
    "!ls -lh ../results/bam/"
   ]
  },
  {
   "cell_type": "markdown",
   "id": "1d406e19-176d-4f8a-8405-de8f160b6744",
   "metadata": {},
   "source": [
    "## 3. Sort and Index BAM Files (Samtools)\n",
    "\n",
    "The BAM files we just created are unsorted (or sorted by read name). For GATK to work, our BAM files **must** be sorted by genomic coordinate.\n",
    "\n",
    "**Workflow:**\n",
    "We will use a `bash` loop to process all 7 BAM files:\n",
    "1.  **Sort:** Use `samtools sort` to read each unsorted BAM file and write a new, sorted BAM file.\n",
    "2.  **Index:** Use `samtools index` on the *new sorted BAM* file to create its index (`.bai` file). GATK needs this index for fast lookups.\n",
    "\n",
    "We will store these final, analysis-ready files in a new directory: `../results/bam_sorted/`."
   ]
  },
  {
   "cell_type": "code",
   "execution_count": null,
   "id": "09167063-4bc4-46f7-9a50-fe666daef856",
   "metadata": {},
   "outputs": [],
   "source": [
    "%%bash\n",
    "# Tell Jupyter to run this entire cell as a bash script\n",
    "\n",
    "# 1. Create the output directory for our new *sorted* BAM files\n",
    "echo \"--- Creating output directory ../results/bam_sorted/ ---\"\n",
    "mkdir -p ../results/bam_sorted/\n",
    "\n",
    "# 2. Loop through all *unsorted* BAM files in ../results/bam/\n",
    "for bam_path in ../results/bam/*.bam; do\n",
    "    \n",
    "    # --- Construct filenames ---\n",
    "    bam_filename=$(basename \"$bam_path\")\n",
    "    \n",
    "    echo \"--- Starting Sort & Index for: $bam_filename ---\"\n",
    "    \n",
    "    # Define the path for the new *sorted* output file\n",
    "    sorted_bam_path=\"../results/bam_sorted/${bam_filename}\"\n",
    "    \n",
    "    # --- Run samtools sort ---\n",
    "    # -@ 8: Use 8 threads for sorting\n",
    "    # -o: Specify the output file name\n",
    "    samtools sort -@ 8 -o $sorted_bam_path $bam_path\n",
    "    \n",
    "    # --- Run samtools index ---\n",
    "    # -@ 8: Use 8 threads for indexing\n",
    "    # This automatically creates the \".bai\" file in the same directory\n",
    "    samtools index -@ 8 $sorted_bam_path\n",
    "    \n",
    "    echo \"--- Finished Sort & Index for: $bam_filename ---\"\n",
    "done\n",
    "\n",
    "echo \"--- All BAM sorting and indexing is complete. ---\""
   ]
  },
  {
   "cell_type": "code",
   "execution_count": null,
   "id": "50803ba0-e087-4495-ad36-7deda9ccb76b",
   "metadata": {},
   "outputs": [],
   "source": [
    "# Verify the new SORTED BAM and INDEX files\n",
    "print(\"--- Verification: Sorted BAM and BAI (Index) files ---\")\n",
    "!ls -lh ../results/bam_sorted/"
   ]
  }
 ],
 "metadata": {
  "kernelspec": {
   "display_name": "Python 3 (ipykernel)",
   "language": "python",
   "name": "python3"
  },
  "language_info": {
   "codemirror_mode": {
    "name": "ipython",
    "version": 3
   },
   "file_extension": ".py",
   "mimetype": "text/x-python",
   "name": "python",
   "nbconvert_exporter": "python",
   "pygments_lexer": "ipython3",
   "version": "3.14.0"
  }
 },
 "nbformat": 4,
 "nbformat_minor": 5
}
