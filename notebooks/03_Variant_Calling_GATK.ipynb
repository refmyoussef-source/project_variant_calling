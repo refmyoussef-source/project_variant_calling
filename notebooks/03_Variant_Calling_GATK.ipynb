{
 "cells": [
  {
   "cell_type": "markdown",
   "id": "7ffee805-064a-4792-a5a2-a08930365cad",
   "metadata": {},
   "source": [
    "# 03. Variant Calling with GATK HaplotypeCaller\n",
    "\n",
    "This is the central notebook of our project. We will use GATK `HaplotypeCaller` to identify genetic variants (SNPs and INDELs) in each sample.\n",
    "\n",
    "**Workflow:**\n",
    "1.  **Create FASTA Index:** GATK (and `samtools`) requires a `.fai` index of the reference genome to allow for fast random access. We will create this first using `samtools faidx`.\n",
    "2.  **Run HaplotypeCaller:** We will loop through our 7 analysis-ready BAM files to find variants.\n",
    "3.  **Output:** GATK will generate a `.vcf.gz` file for each sample, detailing all sites where that sample differs from the reference genome."
   ]
  },
  {
   "cell_type": "code",
   "execution_count": null,
   "id": "89a856b9-5747-4ceb-8944-4e403122c07c",
   "metadata": {},
   "outputs": [],
   "source": [
    "%%bash\n",
    "# Tell Jupyter to run this entire cell as a bash script\n",
    "\n",
    "# 1. Create the output directory for our new VCF files\n",
    "echo \"--- Creating output directory ../results/vcf_files/ ---\"\n",
    "mkdir -p ../results/vcf_files/\n",
    "\n",
    "# 2. Define the path to our Reference FASTA\n",
    "REFERENCE_GENOME=\"../references/saureus_atcc_29213.fasta\"\n",
    "\n",
    "# --- !! FIX 1: Create FASTA index (.fai) for GATK !! ---\n",
    "echo \"--- Creating FASTA index (.fai) using samtools... ---\"\n",
    "samtools faidx $REFERENCE_GENOME\n",
    "echo \"--- .fai index created successfully. ---\"\n",
    "\n",
    "# --- !! FIX 2: Create Sequence Dictionary (.dict) for GATK !! ---\n",
    "# GATK also requires a sequence dictionary file (ends in .dict)\n",
    "# We define the output path for the dictionary\n",
    "DICTIONARY_FILE=\"../references/saureus_atcc_29213.dict\"\n",
    "\n",
    "echo \"--- Creating Sequence Dictionary (.dict) for GATK... ---\"\n",
    "gatk CreateSequenceDictionary \\\n",
    "    -R $REFERENCE_GENOME \\\n",
    "    -O $DICTIONARY_FILE\n",
    "echo \"--- .dict file created successfully. ---\"\n",
    "# --- End of new fixes ---\n",
    "\n",
    "# 4. Loop through all *sorted* BAM files\n",
    "for sorted_bam_path in ../results/bam_sorted/*.bam; do\n",
    "    \n",
    "    bam_filename=$(basename \"$sorted_bam_path\")\n",
    "    sample_id=$(echo \"$bam_filename\" | cut -d'.' -f1)\n",
    "    \n",
    "    echo \"--- Starting GATK HaplotypeCaller for sample: $sample_id ---\"\n",
    "    \n",
    "    output_vcf=\"../results/vcf_files/${sample_id}.vcf.gz\"\n",
    "    \n",
    "    # --- Run GATK HaplotypeCaller ---\n",
    "    # This command is unchanged, but will now work\n",
    "    gatk HaplotypeCaller \\\n",
    "        -R $REFERENCE_GENOME \\\n",
    "        -I $sorted_bam_path \\\n",
    "        -O $output_vcf \\\n",
    "        -ploidy 1\n",
    "    \n",
    "    echo \"--- Finished GATK for sample: $sample_id ---\"\n",
    "done\n",
    "\n",
    "echo \"--- All GATK HaplotypeCaller runs are complete. ---\""
   ]
  },
  {
   "cell_type": "code",
   "execution_count": null,
   "id": "697788fa-11fe-49eb-ab92-39460ab665a8",
   "metadata": {},
   "outputs": [],
   "source": [
    "# Verify the new VCF files\n",
    "print(\"--- Verification: VCF files ---\")\n",
    "!ls -lh ../results/vcf_files/"
   ]
  }
 ],
 "metadata": {
  "kernelspec": {
   "display_name": "Python 3 (ipykernel)",
   "language": "python",
   "name": "python3"
  },
  "language_info": {
   "codemirror_mode": {
    "name": "ipython",
    "version": 3
   },
   "file_extension": ".py",
   "mimetype": "text/x-python",
   "name": "python",
   "nbconvert_exporter": "python",
   "pygments_lexer": "ipython3",
   "version": "3.14.0"
  }
 },
 "nbformat": 4,
 "nbformat_minor": 5
}
