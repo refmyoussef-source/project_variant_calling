{
 "cells": [
  {
   "cell_type": "markdown",
   "id": "388aa818-56b3-4549-89eb-5e980236184d",
   "metadata": {},
   "source": [
    "# 01. Read Quality Control (FastQC & MultiQC)\n",
    "\n",
    "This notebook performs the initial quality control (QC) on our raw sequencing reads.\n",
    "\n",
    "**Workflow:**\n",
    "1.  **Run FastQC:** We will run `FastQC` on all 14 `.fastq.gz` files located in the `../data/` directory. This will generate an individual HTML report for each read file.\n",
    "2.  **Run MultiQC:** We will use `MultiQC` to scan the `FastQC` output directory and create a single, unified summary report. This allows us to assess the quality of all samples at a glance."
   ]
  },
  {
   "cell_type": "code",
   "execution_count": null,
   "id": "adb36582-faa6-4011-92bd-c23253914af4",
   "metadata": {},
   "outputs": [],
   "source": [
    "# Create a dedicated directory for the FastQC reports\n",
    "!mkdir -p ../results/fastqc\n",
    "\n",
    "# Run FastQC on all 14 files\n",
    "# -o: specifies the output directory (../results/fastqc)\n",
    "# -t 8: uses 8 threads (to match our VM's 8 CPUs)\n",
    "# ../data/*.fastq.gz: wildcard to select all fastq files in the data folder\n",
    "\n",
    "print(\"--- Running FastQC on 14 files (this will take several minutes)... ---\")\n",
    "!fastqc -o ../results/fastqc/ -t 8 ../data/*.fastq.gz\n",
    "\n",
    "# Verification\n",
    "print(\"\\n--- FastQC complete. Verifying output files: ---\")\n",
    "!ls -lh ../results/fastqc/"
   ]
  },
  {
   "cell_type": "markdown",
   "id": "cc5d888d-b23e-4b60-b459-893edb38be11",
   "metadata": {},
   "source": [
    "## 2. Aggregate QC Reports (MultiQC)\n",
    "\n",
    "Now that we have 14 individual FastQC reports, we will use `MultiQC` to parse all of them and create a single, unified HTML report. This is essential for quickly comparing the quality metrics across all 7 samples (and their Read 1 / Read 2 files) at a glance.\n",
    "\n",
    "We will create a new directory, `../results/multiqc`, to store this summary report."
   ]
  },
  {
   "cell_type": "code",
   "execution_count": null,
   "id": "858b8326-2e04-43c1-a6e5-02a9d18e178d",
   "metadata": {},
   "outputs": [],
   "source": [
    "# Create a dedicated directory for the MultiQC report\n",
    "!mkdir -p ../results/multiqc\n",
    "\n",
    "# Run MultiQC\n",
    "# -o: specifies the output directory (../results/multiqc)\n",
    "# ../results/fastqc/: the directory where MultiQC will scan for reports\n",
    "\n",
    "print(\"--- Running MultiQC to aggregate reports... ---\")\n",
    "!multiqc ../results/fastqc/ -o ../results/multiqc/\n",
    "\n",
    "# Verification\n",
    "print(\"\\n--- MultiQC complete. Verifying output file: ---\")\n",
    "!ls -lh ../results/multiqc/"
   ]
  },
  {
   "cell_type": "markdown",
   "id": "6f228001-96e1-49e5-ba0c-c0649a8f6e75",
   "metadata": {},
   "source": [
    "## 3. Install Trimming Tool (fastp)\n",
    "\n",
    "Based on the \"Before\" QC report, our reads contain significant adapter contamination and low-quality tails (Red Zone). This is \"Garbage In,\" which will lead to \"Garbage Out\" in our GATK results if not fixed.\n",
    "\n",
    "We will use `fastp`, a modern and ultra-fast tool, to:\n",
    "1.  Auto-detect and remove adapter sequences.\n",
    "2.  Trim low-quality bases from the ends of the reads.\n",
    "\n",
    "First, let's install it."
   ]
  },
  {
   "cell_type": "code",
   "execution_count": null,
   "id": "34926375-40de-45ab-a8c2-9f2cdc199d55",
   "metadata": {},
   "outputs": [],
   "source": [
    "# Install fastp from bioconda\n",
    "!mamba install -c bioconda fastp -y\n",
    "\n",
    "# Verify the installation\n",
    "print(\"\\n--- fastp Version ---\")\n",
    "!fastp --version"
   ]
  },
  {
   "cell_type": "markdown",
   "id": "b427e06b-ded5-4594-9593-b4922c3519dc",
   "metadata": {},
   "source": [
    "## 4. Run Trimming (fastp)\n",
    "\n",
    "Now we will execute `fastp` on all 7 sample pairs.\n",
    "\n",
    "**Workflow for each sample:**\n",
    "1.  **Input:** The `_1.fastq.gz` (Read 1) and `_2.fastq.gz` (Read 2) files from `../data/`.\n",
    "2.  **Process:** `fastp` will auto-detect and remove adapters, trim low-quality bases, and filter out any reads that become too short.\n",
    "3.  **Output (Data):** New, clean `_1.trimmed.fastq.gz` and `_2.trimmed.fastq.gz` files will be saved in a new directory: `../data/trimmed/`.\n",
    "4.  **Output (Reports):** A new HTML and JSON report for each sample will be saved in `../results/fastp_reports/`.\n",
    "\n",
    "We will use a `bash` loop inside this cell to automate the process for all 7 samples."
   ]
  },
  {
   "cell_type": "code",
   "execution_count": null,
   "id": "9d3503b4-7ab1-43c7-b2e8-9ae2b6182cc3",
   "metadata": {},
   "outputs": [],
   "source": [
    "%%bash\n",
    "# This 'magic command' tells Jupyter to run this entire cell as a bash script\n",
    "\n",
    "# 1. Create output directories for our new clean data and reports\n",
    "echo \"--- Creating output directories... ---\"\n",
    "mkdir -p ../data/trimmed/\n",
    "mkdir -p ../results/fastp_reports/\n",
    "\n",
    "# 2. Loop through all Read 1 files in the ../data/ directory\n",
    "for r1_path in ../data/*_1.fastq.gz; do\n",
    "    \n",
    "    # --- Construct all filenames ---\n",
    "    \n",
    "    # Get the base filename (e.g., \"SRR11187849_1.fastq.gz\")\n",
    "    r1_filename=$(basename \"$r1_path\")\n",
    "    \n",
    "    # Get the sample ID (e.g., \"SRR11187849\")\n",
    "    # This command 'cuts' the name at the '_' and takes the first part (f1)\n",
    "    sample_id=$(echo \"$r1_filename\" | cut -d'_' -f1)\n",
    "    \n",
    "    echo \"--- Processing sample: $sample_id ---\"\n",
    "    \n",
    "    # Construct the path to the matching Read 2 file\n",
    "    r2_path=\"../data/${sample_id}_2.fastq.gz\"\n",
    "    \n",
    "    # Construct output paths for the new *trimmed* data\n",
    "    out_r1=\"../data/trimmed/${sample_id}_1.trimmed.fastq.gz\"\n",
    "    out_r2=\"../data/trimmed/${sample_id}_2.trimmed.fastq.gz\"\n",
    "    \n",
    "    # Construct output paths for the new fastp QC reports\n",
    "    out_html=\"../results/fastp_reports/${sample_id}.html\"\n",
    "    out_json=\"../results/fastp_reports/${sample_id}.json\"\n",
    "    \n",
    "    # --- Run fastp ---\n",
    "    # This is the main command\n",
    "    fastp \\\n",
    "        -i \"$r1_path\" \\\n",
    "        -I \"$r2_path\" \\\n",
    "        -o \"$out_r1\" \\\n",
    "        -O \"$out_r2\" \\\n",
    "        --html \"$out_html\" \\\n",
    "        --json \"$out_json\" \\\n",
    "        --thread 8  # Use all 8 CPUs\n",
    "done\n",
    "\n",
    "echo \"--- fastp trimming complete. ---\""
   ]
  },
  {
   "cell_type": "markdown",
   "id": "e074bce2-85a2-4ea7-9013-33b85c15dc80",
   "metadata": {},
   "source": [
    "## 5. Post-Trimming QC (MultiQC \"After\")\n",
    "\n",
    "We have now created 14 new \"trimmed\" FASTQ files. The final step in this notebook is to **verify** that our trimming was successful.\n",
    "\n",
    "`fastp` created its own HTML/JSON reports in `../results/fastp_reports/`. We will now run `MultiQC` on this *new* directory.\n",
    "\n",
    "This \"After\" report will allow us to visually confirm that:\n",
    "1.  The adapter contamination is gone.\n",
    "2.  The low-quality tails (Red Zone) have been clipped."
   ]
  },
  {
   "cell_type": "code",
   "execution_count": null,
   "id": "b6a58491-64a8-4553-991c-92cb72a67245",
   "metadata": {},
   "outputs": [],
   "source": [
    "# Create a new, separate directory for our \"After\" MultiQC report\n",
    "!mkdir -p ../results/multiqc_trimmed\n",
    "\n",
    "# Run MultiQC\n",
    "# Note: We are now pointing it at the 'fastp_reports' directory\n",
    "print(\"--- Running MultiQC on 'fastp' reports (After Trimming)... ---\")\n",
    "!multiqc ../results/fastp_reports/ -o ../results/multiqc_trimmed/\n",
    "\n",
    "# Verification\n",
    "print(\"\\n--- MultiQC (After) complete. Verifying output file: ---\")\n",
    "!ls -lh ../results/multiqc_trimmed/"
   ]
  }
 ],
 "metadata": {
  "kernelspec": {
   "display_name": "Python 3 (ipykernel)",
   "language": "python",
   "name": "python3"
  },
  "language_info": {
   "codemirror_mode": {
    "name": "ipython",
    "version": 3
   },
   "file_extension": ".py",
   "mimetype": "text/x-python",
   "name": "python",
   "nbconvert_exporter": "python",
   "pygments_lexer": "ipython3",
   "version": "3.14.0"
  }
 },
 "nbformat": 4,
 "nbformat_minor": 5
}
